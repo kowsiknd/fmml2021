{
  "nbformat": 4,
  "nbformat_minor": 0,
  "metadata": {
    "colab": {
      "name": "01_Elementary_Operations.ipynb",
      "provenance": [],
      "include_colab_link": true
    },
    "kernelspec": {
      "name": "python3",
      "display_name": "Python 3"
    },
    "language_info": {
      "name": "python"
    }
  },
  "cells": [
    {
      "cell_type": "markdown",
      "metadata": {
        "id": "view-in-github",
        "colab_type": "text"
      },
      "source": [
        "<a href=\"https://colab.research.google.com/github/kowsiknd/fmml2021/blob/main/01_Elementary_Operations.ipynb\" target=\"_parent\"><img src=\"https://colab.research.google.com/assets/colab-badge.svg\" alt=\"Open In Colab\"/></a>"
      ]
    },
    {
      "cell_type": "code",
      "metadata": {
        "id": "d_4Xzhe4p5Jh",
        "outputId": "7acac009-5e00-4509-deae-bedf32a17b8a",
        "colab": {
          "base_uri": "https://localhost:8080/"
        }
      },
      "source": [
        "!python --version"
      ],
      "execution_count": 1,
      "outputs": [
        {
          "output_type": "stream",
          "name": "stdout",
          "text": [
            "Python 3.7.11\n"
          ]
        }
      ]
    },
    {
      "cell_type": "markdown",
      "metadata": {
        "id": "LQ7shzxUfj6N"
      },
      "source": [
        "### Elementary operations"
      ]
    },
    {
      "cell_type": "markdown",
      "metadata": {
        "id": "PI0fJw10fswU"
      },
      "source": [
        "#### Basic Calculator Operations\n",
        "\" addition + ,  subtraction  -  , multiplication  *  , division /  ,  exponent ** , modulus  %  , floor division  // \""
      ]
    },
    {
      "cell_type": "code",
      "metadata": {
        "id": "dm1hT_B9jXGu",
        "outputId": "ca9cf5e4-44e5-421c-c7e8-bbaf94d2bc86",
        "colab": {
          "base_uri": "https://localhost:8080/"
        }
      },
      "source": [
        "3 + 2         # addition"
      ],
      "execution_count": 2,
      "outputs": [
        {
          "output_type": "execute_result",
          "data": {
            "text/plain": [
              "5"
            ]
          },
          "metadata": {},
          "execution_count": 2
        }
      ]
    },
    {
      "cell_type": "code",
      "metadata": {
        "id": "sUhkQPuhXbYj",
        "outputId": "e6431f4e-b7aa-486e-9275-c6f4a94cdff7",
        "colab": {
          "base_uri": "https://localhost:8080/"
        }
      },
      "source": [
        "3 - 2         # subtraction"
      ],
      "execution_count": 3,
      "outputs": [
        {
          "output_type": "execute_result",
          "data": {
            "text/plain": [
              "1"
            ]
          },
          "metadata": {},
          "execution_count": 3
        }
      ]
    },
    {
      "cell_type": "code",
      "metadata": {
        "id": "B1gLBI1LXo1m",
        "outputId": "f43d3601-539f-4fb7-ee72-cbfc67c91130",
        "colab": {
          "base_uri": "https://localhost:8080/"
        }
      },
      "source": [
        "5 * 3         # multiplication"
      ],
      "execution_count": 4,
      "outputs": [
        {
          "output_type": "execute_result",
          "data": {
            "text/plain": [
              "15"
            ]
          },
          "metadata": {},
          "execution_count": 4
        }
      ]
    },
    {
      "cell_type": "code",
      "metadata": {
        "id": "TwvpedNVXzRc",
        "outputId": "3aa699ba-005e-43c5-95ac-59dcfab6b82d",
        "colab": {
          "base_uri": "https://localhost:8080/"
        }
      },
      "source": [
        "7 / 2         # division (always returns a float)"
      ],
      "execution_count": 5,
      "outputs": [
        {
          "output_type": "execute_result",
          "data": {
            "text/plain": [
              "3.5"
            ]
          },
          "metadata": {},
          "execution_count": 5
        }
      ]
    },
    {
      "cell_type": "code",
      "metadata": {
        "id": "2LQZZcRPX5Bt",
        "outputId": "910e41b0-e79c-416a-f898-ec428c6e322d",
        "colab": {
          "base_uri": "https://localhost:8080/"
        }
      },
      "source": [
        "type (7 / 2)"
      ],
      "execution_count": 6,
      "outputs": [
        {
          "output_type": "execute_result",
          "data": {
            "text/plain": [
              "float"
            ]
          },
          "metadata": {},
          "execution_count": 6
        }
      ]
    },
    {
      "cell_type": "code",
      "metadata": {
        "id": "qjJkqqXcX95p",
        "outputId": "84e23499-f384-4901-cde0-32ca82b35570",
        "colab": {
          "base_uri": "https://localhost:8080/"
        }
      },
      "source": [
        "7 // 2        # floor division (returns an integer - discards decimal part)"
      ],
      "execution_count": 7,
      "outputs": [
        {
          "output_type": "execute_result",
          "data": {
            "text/plain": [
              "3"
            ]
          },
          "metadata": {},
          "execution_count": 7
        }
      ]
    },
    {
      "cell_type": "code",
      "metadata": {
        "id": "2L_ku8CLYKDC",
        "outputId": "667aabac-9e25-41ee-b684-92ad0e612df5",
        "colab": {
          "base_uri": "https://localhost:8080/"
        }
      },
      "source": [
        "type ( 7 // 2)"
      ],
      "execution_count": 8,
      "outputs": [
        {
          "output_type": "execute_result",
          "data": {
            "text/plain": [
              "int"
            ]
          },
          "metadata": {},
          "execution_count": 8
        }
      ]
    },
    {
      "cell_type": "code",
      "metadata": {
        "id": "dH2NmrgNYM97",
        "outputId": "ae482229-9d55-4c8d-d866-395a77c59ff3",
        "colab": {
          "base_uri": "https://localhost:8080/"
        }
      },
      "source": [
        "7 % 2         # modulus operator - remainder is fetched after division"
      ],
      "execution_count": 9,
      "outputs": [
        {
          "output_type": "execute_result",
          "data": {
            "text/plain": [
              "1"
            ]
          },
          "metadata": {},
          "execution_count": 9
        }
      ]
    },
    {
      "cell_type": "code",
      "metadata": {
        "id": "wNTJter-YZ7W",
        "outputId": "e0fcc796-4b62-44ed-bc3b-4366d53c6b6b",
        "colab": {
          "base_uri": "https://localhost:8080/"
        }
      },
      "source": [
        "7 ** 2        # exponentiation "
      ],
      "execution_count": 10,
      "outputs": [
        {
          "output_type": "execute_result",
          "data": {
            "text/plain": [
              "49"
            ]
          },
          "metadata": {},
          "execution_count": 10
        }
      ]
    },
    {
      "cell_type": "code",
      "metadata": {
        "id": "asikDVm7YvYT",
        "outputId": "4c879687-098d-44b2-dbe0-779ac57d7844",
        "colab": {
          "base_uri": "https://localhost:8080/"
        }
      },
      "source": [
        "5 - 2 * 2     # operator precedence : (), **, -(unary),  * or /, + or -"
      ],
      "execution_count": 11,
      "outputs": [
        {
          "output_type": "execute_result",
          "data": {
            "text/plain": [
              "1"
            ]
          },
          "metadata": {},
          "execution_count": 11
        }
      ]
    },
    {
      "cell_type": "code",
      "metadata": {
        "id": "YOcK-5d5eA39"
      },
      "source": [
        "# on string variables\n",
        "first_name = 'charlie'\n",
        "second_name = \"chaplin\""
      ],
      "execution_count": 12,
      "outputs": []
    },
    {
      "cell_type": "code",
      "metadata": {
        "id": "oYu_ynPOeS2_",
        "outputId": "4717e5e4-bb6b-4d4d-ef64-f2a224b1543e",
        "colab": {
          "base_uri": "https://localhost:8080/",
          "height": 35
        }
      },
      "source": [
        "first_name + second_name # Concatenation of string using operator over loading"
      ],
      "execution_count": 14,
      "outputs": [
        {
          "output_type": "execute_result",
          "data": {
            "application/vnd.google.colaboratory.intrinsic+json": {
              "type": "string"
            },
            "text/plain": [
              "'charliechaplin'"
            ]
          },
          "metadata": {},
          "execution_count": 14
        }
      ]
    },
    {
      "cell_type": "code",
      "metadata": {
        "id": "oIY8q8wgehFC",
        "outputId": "fe6a5920-b8fa-45b6-b205-3700e4bb939c",
        "colab": {
          "base_uri": "https://localhost:8080/",
          "height": 35
        }
      },
      "source": [
        "first_name + ' ' + second_name"
      ],
      "execution_count": 15,
      "outputs": [
        {
          "output_type": "execute_result",
          "data": {
            "application/vnd.google.colaboratory.intrinsic+json": {
              "type": "string"
            },
            "text/plain": [
              "'charlie chaplin'"
            ]
          },
          "metadata": {},
          "execution_count": 15
        }
      ]
    },
    {
      "cell_type": "code",
      "metadata": {
        "id": "6Vuv8iMbevRJ",
        "outputId": "ab5500b8-fd59-4876-b288-6e66d55d539f",
        "colab": {
          "base_uri": "https://localhost:8080/",
          "height": 35
        }
      },
      "source": [
        "first_name * 2"
      ],
      "execution_count": 16,
      "outputs": [
        {
          "output_type": "execute_result",
          "data": {
            "application/vnd.google.colaboratory.intrinsic+json": {
              "type": "string"
            },
            "text/plain": [
              "'charliecharlie'"
            ]
          },
          "metadata": {},
          "execution_count": 16
        }
      ]
    },
    {
      "cell_type": "code",
      "metadata": {
        "id": "QPblckrXe2ui",
        "outputId": "eca67d0a-86c1-4edc-d700-60def80992dc",
        "colab": {
          "base_uri": "https://localhost:8080/",
          "height": 35
        }
      },
      "source": [
        "(first_name * 2) + ' ' + (second_name * 3)"
      ],
      "execution_count": 17,
      "outputs": [
        {
          "output_type": "execute_result",
          "data": {
            "application/vnd.google.colaboratory.intrinsic+json": {
              "type": "string"
            },
            "text/plain": [
              "'charliecharlie chaplinchaplinchaplin'"
            ]
          },
          "metadata": {},
          "execution_count": 17
        }
      ]
    },
    {
      "cell_type": "markdown",
      "metadata": {
        "id": "aLcLONZ1fLxt"
      },
      "source": [
        "### Some exercises..."
      ]
    },
    {
      "cell_type": "code",
      "metadata": {
        "id": "DRFAgL6DZYxm"
      },
      "source": [
        "# 1. A brick has dimensions 5 cm x 4 cm x 2 cm. Find volume.\n",
        "brick_length = 5\n",
        "brick_breadth = 4\n",
        "brick_height = 2"
      ],
      "execution_count": 18,
      "outputs": []
    },
    {
      "cell_type": "code",
      "metadata": {
        "id": "pKZ7uDHCZ3At",
        "outputId": "8107fd58-29ff-47ad-f1bb-a0e03a8e72b0",
        "colab": {
          "base_uri": "https://localhost:8080/"
        }
      },
      "source": [
        "brick_volume = brick_length * brick_breadth * brick_height\n",
        "print (brick_volume)"
      ],
      "execution_count": 19,
      "outputs": [
        {
          "output_type": "stream",
          "name": "stdout",
          "text": [
            "40\n"
          ]
        }
      ]
    },
    {
      "cell_type": "code",
      "metadata": {
        "id": "S2zZsoBb2z45",
        "outputId": "55a3825e-a251-45b8-bfb9-330f708dcba2",
        "colab": {
          "base_uri": "https://localhost:8080/"
        }
      },
      "source": [
        "# 2. What will the expression -3 ** 2 evaluate to ?\n",
        "-3 ** 2\n",
        "# ** has higher precedence than uninary."
      ],
      "execution_count": 20,
      "outputs": [
        {
          "output_type": "execute_result",
          "data": {
            "text/plain": [
              "-9"
            ]
          },
          "metadata": {},
          "execution_count": 20
        }
      ]
    },
    {
      "cell_type": "markdown",
      "metadata": {
        "id": "nPqa-OG28yg_"
      },
      "source": [
        "*Exercise (do it yourself) :* A litre of petrol costs Rs 102. Your two wheeler gives a mileage of 38 kms per litre of petrol. How much of a distance can you travel with fuel worth Rs 50."
      ]
    },
    {
      "cell_type": "code",
      "metadata": {
        "id": "fZ4Tpi0B27lf"
      },
      "source": [
        "cost_of_petrol = 102\n",
        "mileage = 38\n",
        "fuel_cost = 50\n",
        "\n",
        "# distance travelled \n",
        "distance = fuel_cost / cost_of_petrol * mileage"
      ],
      "execution_count": 21,
      "outputs": []
    },
    {
      "cell_type": "code",
      "metadata": {
        "id": "85H7bRhtzEK9"
      },
      "source": [
        "rounded_distance = round(distance, 2)"
      ],
      "execution_count": 23,
      "outputs": []
    },
    {
      "cell_type": "code",
      "metadata": {
        "id": "qWd9xvrxysS7",
        "outputId": "618fdf2e-0518-473b-e0ea-86b5f31f83cf",
        "colab": {
          "base_uri": "https://localhost:8080/"
        }
      },
      "source": [
        "print(\"Distance travelled for {} with mileage of {} is {}\".format(fuel_cost, mileage, rounded_distance))"
      ],
      "execution_count": 24,
      "outputs": [
        {
          "output_type": "stream",
          "name": "stdout",
          "text": [
            "Distance travelled for 50 with mileage of 38 is 18.63\n"
          ]
        }
      ]
    },
    {
      "cell_type": "markdown",
      "metadata": {
        "id": "vUAWMNbjiSvf"
      },
      "source": [
        "#### References"
      ]
    },
    {
      "cell_type": "markdown",
      "metadata": {
        "id": "KmpvkMmKiVcZ"
      },
      "source": [
        "1. [Python Operators](https://www.w3schools.com/python/python_operators.asp) and [Python Exercises](https://www.w3schools.com/python/exercise.asp)\n",
        "2. [Official Python Documentation](https://docs.python.org/3/tutorial/introduction.html)\n"
      ]
    }
  ]
}